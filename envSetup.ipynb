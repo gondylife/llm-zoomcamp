{
 "cells": [
  {
   "cell_type": "code",
   "execution_count": 1,
   "id": "d6a5b74b-c699-46ef-8444-e99db115c14b",
   "metadata": {},
   "outputs": [],
   "source": [
    "import openai"
   ]
  },
  {
   "cell_type": "code",
   "execution_count": 2,
   "id": "e9bf5641-c4e0-476d-9e50-74e6748b2e02",
   "metadata": {},
   "outputs": [],
   "source": [
    "from openai import OpenAI"
   ]
  },
  {
   "cell_type": "code",
   "execution_count": 3,
   "id": "c53d117b-5d1f-4753-874a-b6f1553cf25c",
   "metadata": {},
   "outputs": [],
   "source": [
    "client = OpenAI()"
   ]
  },
  {
   "cell_type": "code",
   "execution_count": 4,
   "id": "fc591bb9-2c86-4178-b439-76f89f092916",
   "metadata": {},
   "outputs": [],
   "source": [
    "import os"
   ]
  },
  {
   "cell_type": "code",
   "execution_count": 5,
   "id": "b0b358ee-3671-4813-892f-72c5b15772ed",
   "metadata": {},
   "outputs": [],
   "source": [
    "response = client.chat.completions.create(\n",
    "    model=\"gpt-4o\",\n",
    "    messages=[{\"role\": \"user\", \"content\": \"Is it too late to join the course?\"}]\n",
    ")"
   ]
  },
  {
   "cell_type": "code",
   "execution_count": 6,
   "id": "19006db8-cf46-4068-b541-ad662d982447",
   "metadata": {},
   "outputs": [
    {
     "data": {
      "text/plain": [
       "ChatCompletion(id='chatcmpl-B288BVFttiKs1ocHdRdshe6tYuHCZ', choices=[Choice(finish_reason='stop', index=0, logprobs=None, message=ChatCompletionMessage(content=\"I'm not sure which course you're referring to, but typically, whether it's too late to join a course depends on a few factors:\\n\\n1. **Enrollment Deadlines**: Check if the course has a specific registration deadline.\\n2. **Course Start Date**: If the course has already begun, find out if late enrollment is allowed.\\n3. **Institution Policies**: Different institutions have different policies on late enrollment.\\n4. **Course Format**: Online courses might have more flexible enrollment options compared to in-person classes.\\n\\nIf you provide more details about the specific course, I might be able to offer more tailored guidance. Otherwise, I recommend contacting the course provider or checking their website for the most accurate information.\", refusal=None, role='assistant', audio=None, function_call=None, tool_calls=None))], created=1739847611, model='gpt-4o-2024-08-06', object='chat.completion', service_tier='default', system_fingerprint='fp_ff092ab25e', usage=CompletionUsage(completion_tokens=143, prompt_tokens=16, total_tokens=159, completion_tokens_details=CompletionTokensDetails(accepted_prediction_tokens=0, audio_tokens=0, reasoning_tokens=0, rejected_prediction_tokens=0), prompt_tokens_details=PromptTokensDetails(audio_tokens=0, cached_tokens=0)))"
      ]
     },
     "execution_count": 6,
     "metadata": {},
     "output_type": "execute_result"
    }
   ],
   "source": [
    "response"
   ]
  },
  {
   "cell_type": "code",
   "execution_count": null,
   "id": "c4b5b711-8ae8-4e2e-864e-77df3f890263",
   "metadata": {},
   "outputs": [],
   "source": []
  }
 ],
 "metadata": {
  "kernelspec": {
   "display_name": "Python 3 (ipykernel)",
   "language": "python",
   "name": "python3"
  },
  "language_info": {
   "codemirror_mode": {
    "name": "ipython",
    "version": 3
   },
   "file_extension": ".py",
   "mimetype": "text/x-python",
   "name": "python",
   "nbconvert_exporter": "python",
   "pygments_lexer": "ipython3",
   "version": "3.12.1"
  }
 },
 "nbformat": 4,
 "nbformat_minor": 5
}
